{
 "cells": [
  {
   "cell_type": "markdown",
   "metadata": {},
   "source": [
    "# Membrane Proteome Paper, Figures and Data Analysis"
   ]
  },
  {
   "cell_type": "code",
   "execution_count": 2,
   "metadata": {},
   "outputs": [],
   "source": [
    "import pandas as pd\n",
    "import matplotlib.pyplot as plt\n",
    "import seaborn as sns\n",
    "from matplotlib_venn import venn2"
   ]
  },
  {
   "cell_type": "markdown",
   "metadata": {},
   "source": [
    "### Figure 1: Description of what the Asgard membrane proteome is"
   ]
  },
  {
   "cell_type": "markdown",
   "metadata": {},
   "source": [
    "#### Venn Diagram/ Comparison of TMBed and DeepTMHMM predictions"
   ]
  },
  {
   "cell_type": "code",
   "execution_count": 3,
   "metadata": {},
   "outputs": [],
   "source": [
    "#Filepaths\n",
    "#Transmembrane protein prediction files\n",
    "tm_folder = '/stor/work/Marcotte/project/drbarth/asgard/membrane_proteome/data/raw/tm_predictions/'\n",
    "all_prots_deep = tm_folder + 'D4994_C39_H1_asgardbins.fasta.deeptmhmm.3line'\n",
    "all_prots_tmbed = tm_folder + 'D4994_C39_H1_asgardbins.fasta.tmbed.3lines'"
   ]
  },
  {
   "cell_type": "code",
   "execution_count": 4,
   "metadata": {},
   "outputs": [],
   "source": [
    "#Function to parse through 3lines files for either deeptmhmm or tmbed format: \n",
    "def read3line(filepath, format):    \n",
    "    protein_names = []\n",
    "    sequence = []\n",
    "    prediction = []\n",
    "    with open(filepath, \"r\") as a_file:\n",
    "        for line in a_file:\n",
    "            if line.startswith('>'):\n",
    "                #split_line = line.strip('\\n')\n",
    "                split_line = line.split('>')\n",
    "                if format == 'tmbed':\n",
    "                    split_line = split_line[1].split('\\n')\n",
    "                elif format == 'deeptmhmm':\n",
    "                    split_line = split_line[1].split(' ')\n",
    "                prot_name = split_line[0]\n",
    "                protein_names.append(prot_name)\n",
    "                for a in range(2):\n",
    "                    if a == 0:\n",
    "                        seq = next(a_file)\n",
    "                        split = seq.split('\\n')\n",
    "                        sequence.append(split[0])\n",
    "                    else: \n",
    "                        pred = next(a_file)\n",
    "                        pred_split = pred.split('\\n')\n",
    "                        prediction.append(pred_split[0])\n",
    "    df = pd.DataFrame(list(zip(protein_names, sequence, prediction)),\n",
    "               columns =['ProteinID', 'aa_sequence', format+'_prediction'])\n",
    "    return df"
   ]
  },
  {
   "cell_type": "code",
   "execution_count": 5,
   "metadata": {},
   "outputs": [],
   "source": [
    "deep_df = read3line(all_prots_deep, 'deeptmhmm')\n",
    "tmbed_df = read3line(all_prots_tmbed, 'tmbed')"
   ]
  },
  {
   "cell_type": "code",
   "execution_count": 6,
   "metadata": {},
   "outputs": [
    {
     "data": {
      "text/html": [
       "<div>\n",
       "<style scoped>\n",
       "    .dataframe tbody tr th:only-of-type {\n",
       "        vertical-align: middle;\n",
       "    }\n",
       "\n",
       "    .dataframe tbody tr th {\n",
       "        vertical-align: top;\n",
       "    }\n",
       "\n",
       "    .dataframe thead th {\n",
       "        text-align: right;\n",
       "    }\n",
       "</style>\n",
       "<table border=\"1\" class=\"dataframe\">\n",
       "  <thead>\n",
       "    <tr style=\"text-align: right;\">\n",
       "      <th></th>\n",
       "      <th>ProteinID</th>\n",
       "      <th>aa_sequence</th>\n",
       "      <th>tmbed_prediction</th>\n",
       "    </tr>\n",
       "  </thead>\n",
       "  <tbody>\n",
       "    <tr>\n",
       "      <th>0</th>\n",
       "      <td>D4994_C39_H1_Bin_33_scaffold_101747_1</td>\n",
       "      <td>MITRSRGNESRSFNRSTSPNSRSSSSSRSNLDSDSDSDSDSYSNDI...</td>\n",
       "      <td>iiiiiiiiiiiiiiiiiiiiiiiiiiiiiiiiiiiiiiiiiiiiii...</td>\n",
       "    </tr>\n",
       "    <tr>\n",
       "      <th>1</th>\n",
       "      <td>D4994_C39_H1_Bin_33_scaffold_101747_2</td>\n",
       "      <td>MEEYLIHKGPVSCWDEKTKGEVIALMYHKIIVTVEWYKKNPTNEEF...</td>\n",
       "      <td>iiiiiiiiiiiiiiiiiiiiiiiiiiiiiiiiiiiiiiiiiiiiii...</td>\n",
       "    </tr>\n",
       "    <tr>\n",
       "      <th>2</th>\n",
       "      <td>D4994_C39_H1_Bin_33_scaffold_101747_3</td>\n",
       "      <td>MKPQFFIGNNVYAMIKAFTKNNKTQGVLTVVPNTVRPDKICSGRFM...</td>\n",
       "      <td>iiiiiiiiiiiiiiiiiiiiiiiiiiiiiiiiiiiiiiiiiiiiii...</td>\n",
       "    </tr>\n",
       "    <tr>\n",
       "      <th>3</th>\n",
       "      <td>D4994_C39_H1_Bin_33_scaffold_102981_1</td>\n",
       "      <td>MKKNTFTVVTLSVLVLAVMIPMTFPGNDTRVEDQVAMQPDAPVTSY...</td>\n",
       "      <td>SSSSSSSSSSSSSSSSSSSSSSSSSSSSSSSSSSSSoooooooooo...</td>\n",
       "    </tr>\n",
       "    <tr>\n",
       "      <th>4</th>\n",
       "      <td>D4994_C39_H1_Bin_33_scaffold_102981_10</td>\n",
       "      <td>MVEEEREDREEEEGEEGEEEEEGDNLGELVDGGITEDNLANVTGDD...</td>\n",
       "      <td>iiiiiiiiiiiiiiiiiiiiiiiiiiiiiiiiiiiiiiiiiiiiii...</td>\n",
       "    </tr>\n",
       "  </tbody>\n",
       "</table>\n",
       "</div>"
      ],
      "text/plain": [
       "                                ProteinID  \\\n",
       "0   D4994_C39_H1_Bin_33_scaffold_101747_1   \n",
       "1   D4994_C39_H1_Bin_33_scaffold_101747_2   \n",
       "2   D4994_C39_H1_Bin_33_scaffold_101747_3   \n",
       "3   D4994_C39_H1_Bin_33_scaffold_102981_1   \n",
       "4  D4994_C39_H1_Bin_33_scaffold_102981_10   \n",
       "\n",
       "                                         aa_sequence  \\\n",
       "0  MITRSRGNESRSFNRSTSPNSRSSSSSRSNLDSDSDSDSDSYSNDI...   \n",
       "1  MEEYLIHKGPVSCWDEKTKGEVIALMYHKIIVTVEWYKKNPTNEEF...   \n",
       "2  MKPQFFIGNNVYAMIKAFTKNNKTQGVLTVVPNTVRPDKICSGRFM...   \n",
       "3  MKKNTFTVVTLSVLVLAVMIPMTFPGNDTRVEDQVAMQPDAPVTSY...   \n",
       "4  MVEEEREDREEEEGEEGEEEEEGDNLGELVDGGITEDNLANVTGDD...   \n",
       "\n",
       "                                    tmbed_prediction  \n",
       "0  iiiiiiiiiiiiiiiiiiiiiiiiiiiiiiiiiiiiiiiiiiiiii...  \n",
       "1  iiiiiiiiiiiiiiiiiiiiiiiiiiiiiiiiiiiiiiiiiiiiii...  \n",
       "2  iiiiiiiiiiiiiiiiiiiiiiiiiiiiiiiiiiiiiiiiiiiiii...  \n",
       "3  SSSSSSSSSSSSSSSSSSSSSSSSSSSSSSSSSSSSoooooooooo...  \n",
       "4  iiiiiiiiiiiiiiiiiiiiiiiiiiiiiiiiiiiiiiiiiiiiii...  "
      ]
     },
     "execution_count": 6,
     "metadata": {},
     "output_type": "execute_result"
    }
   ],
   "source": [
    "tmbed_df.head()"
   ]
  },
  {
   "cell_type": "code",
   "execution_count": 7,
   "metadata": {},
   "outputs": [
    {
     "data": {
      "text/html": [
       "<div>\n",
       "<style scoped>\n",
       "    .dataframe tbody tr th:only-of-type {\n",
       "        vertical-align: middle;\n",
       "    }\n",
       "\n",
       "    .dataframe tbody tr th {\n",
       "        vertical-align: top;\n",
       "    }\n",
       "\n",
       "    .dataframe thead th {\n",
       "        text-align: right;\n",
       "    }\n",
       "</style>\n",
       "<table border=\"1\" class=\"dataframe\">\n",
       "  <thead>\n",
       "    <tr style=\"text-align: right;\">\n",
       "      <th></th>\n",
       "      <th>ProteinID</th>\n",
       "      <th>aa_sequence</th>\n",
       "      <th>tmbed_prediction</th>\n",
       "    </tr>\n",
       "  </thead>\n",
       "  <tbody>\n",
       "    <tr>\n",
       "      <th>0</th>\n",
       "      <td>D4994_C39_H1_Bin_33_scaffold_101747_1</td>\n",
       "      <td>MITRSRGNESRSFNRSTSPNSRSSSSSRSNLDSDSDSDSDSYSNDI...</td>\n",
       "      <td>IIIIIIIIIIIIIIIIIIIIIIIIIIIIIIIIIIIIIIIIIIIIII...</td>\n",
       "    </tr>\n",
       "    <tr>\n",
       "      <th>1</th>\n",
       "      <td>D4994_C39_H1_Bin_33_scaffold_101747_2</td>\n",
       "      <td>MEEYLIHKGPVSCWDEKTKGEVIALMYHKIIVTVEWYKKNPTNEEF...</td>\n",
       "      <td>IIIIIIIIIIIIIIIIIIIIIIIIIIIIIIIIIIIIIIIIIIIIII...</td>\n",
       "    </tr>\n",
       "    <tr>\n",
       "      <th>2</th>\n",
       "      <td>D4994_C39_H1_Bin_33_scaffold_101747_3</td>\n",
       "      <td>MKPQFFIGNNVYAMIKAFTKNNKTQGVLTVVPNTVRPDKICSGRFM...</td>\n",
       "      <td>IIIIIIIIIIIIIIIIIIIIIIIIIIIIIIIIIIIIIIIIIIIIII...</td>\n",
       "    </tr>\n",
       "    <tr>\n",
       "      <th>3</th>\n",
       "      <td>D4994_C39_H1_Bin_33_scaffold_102981_1</td>\n",
       "      <td>MKKNTFTVVTLSVLVLAVMIPMTFPGNDTRVEDQVAMQPDAPVTSY...</td>\n",
       "      <td>SSSSSSSSSSSSSSSSSSSSSSSSSSSSSSSSSSSSOOOOOOOOOO...</td>\n",
       "    </tr>\n",
       "    <tr>\n",
       "      <th>4</th>\n",
       "      <td>D4994_C39_H1_Bin_33_scaffold_102981_10</td>\n",
       "      <td>MVEEEREDREEEEGEEGEEEEEGDNLGELVDGGITEDNLANVTGDD...</td>\n",
       "      <td>IIIIIIIIIIIIIIIIIIIIIIIIIIIIIIIIIIIIIIIIIIIIII...</td>\n",
       "    </tr>\n",
       "  </tbody>\n",
       "</table>\n",
       "</div>"
      ],
      "text/plain": [
       "                                ProteinID  \\\n",
       "0   D4994_C39_H1_Bin_33_scaffold_101747_1   \n",
       "1   D4994_C39_H1_Bin_33_scaffold_101747_2   \n",
       "2   D4994_C39_H1_Bin_33_scaffold_101747_3   \n",
       "3   D4994_C39_H1_Bin_33_scaffold_102981_1   \n",
       "4  D4994_C39_H1_Bin_33_scaffold_102981_10   \n",
       "\n",
       "                                         aa_sequence  \\\n",
       "0  MITRSRGNESRSFNRSTSPNSRSSSSSRSNLDSDSDSDSDSYSNDI...   \n",
       "1  MEEYLIHKGPVSCWDEKTKGEVIALMYHKIIVTVEWYKKNPTNEEF...   \n",
       "2  MKPQFFIGNNVYAMIKAFTKNNKTQGVLTVVPNTVRPDKICSGRFM...   \n",
       "3  MKKNTFTVVTLSVLVLAVMIPMTFPGNDTRVEDQVAMQPDAPVTSY...   \n",
       "4  MVEEEREDREEEEGEEGEEEEEGDNLGELVDGGITEDNLANVTGDD...   \n",
       "\n",
       "                                    tmbed_prediction  \n",
       "0  IIIIIIIIIIIIIIIIIIIIIIIIIIIIIIIIIIIIIIIIIIIIII...  \n",
       "1  IIIIIIIIIIIIIIIIIIIIIIIIIIIIIIIIIIIIIIIIIIIIII...  \n",
       "2  IIIIIIIIIIIIIIIIIIIIIIIIIIIIIIIIIIIIIIIIIIIIII...  \n",
       "3  SSSSSSSSSSSSSSSSSSSSSSSSSSSSSSSSSSSSOOOOOOOOOO...  \n",
       "4  IIIIIIIIIIIIIIIIIIIIIIIIIIIIIIIIIIIIIIIIIIIIII...  "
      ]
     },
     "execution_count": 7,
     "metadata": {},
     "output_type": "execute_result"
    }
   ],
   "source": [
    "#If I want to translate TMBed to DeepTMHMM, TMBed has more info encoded than DeepTMHMM so we'll have to flop this way... Here are the flips: \n",
    "# i : I, o : O, S stays as S, B : M, b : M, H : M, and h : M \n",
    "tmbed_to_deep_dict = {'i':'I', 'o':'O', 'S':'S', 'B':'M', 'b':'M', 'H':'M', 'h':'M'}\n",
    "\n",
    "#Make a new dataframe where tmbed_df's tmbed_prediction column is translated to DeepTMHMM's format\n",
    "tmbed_asdeep_df = tmbed_df.copy()\n",
    "\n",
    "#A function that will split the column into strings and translate each of the strings\n",
    "def translate_tmbed_to_deep(tmbed_prediction):\n",
    "    tmbed_prediction = list(tmbed_prediction)\n",
    "    tmbed_prediction = [tmbed_to_deep_dict[tmbed_prediction[i]] for i in range(len(tmbed_prediction))]\n",
    "    tmbed_prediction = ''.join(tmbed_prediction)\n",
    "    return tmbed_prediction\n",
    "\n",
    "\n",
    "tmbed_asdeep_df['tmbed_prediction'] = tmbed_asdeep_df['tmbed_prediction'].map(translate_tmbed_to_deep)\n",
    "tmbed_asdeep_df.head()\n"
   ]
  },
  {
   "cell_type": "code",
   "execution_count": 8,
   "metadata": {},
   "outputs": [
    {
     "data": {
      "text/html": [
       "<div>\n",
       "<style scoped>\n",
       "    .dataframe tbody tr th:only-of-type {\n",
       "        vertical-align: middle;\n",
       "    }\n",
       "\n",
       "    .dataframe tbody tr th {\n",
       "        vertical-align: top;\n",
       "    }\n",
       "\n",
       "    .dataframe thead th {\n",
       "        text-align: right;\n",
       "    }\n",
       "</style>\n",
       "<table border=\"1\" class=\"dataframe\">\n",
       "  <thead>\n",
       "    <tr style=\"text-align: right;\">\n",
       "      <th></th>\n",
       "      <th>ProteinID</th>\n",
       "      <th>aa_sequence</th>\n",
       "      <th>deeptmhmm_prediction</th>\n",
       "      <th>tmbed_prediction</th>\n",
       "    </tr>\n",
       "  </thead>\n",
       "  <tbody>\n",
       "    <tr>\n",
       "      <th>0</th>\n",
       "      <td>D4994_C39_H1_Bin_33_scaffold_101747_1</td>\n",
       "      <td>MITRSRGNESRSFNRSTSPNSRSSSSSRSNLDSDSDSDSDSYSNDI...</td>\n",
       "      <td>IIIIIIIIIIIIIIIIIIIIIIIIIIIIIIIIIIIIIIIIIIIIII...</td>\n",
       "      <td>IIIIIIIIIIIIIIIIIIIIIIIIIIIIIIIIIIIIIIIIIIIIII...</td>\n",
       "    </tr>\n",
       "    <tr>\n",
       "      <th>1</th>\n",
       "      <td>D4994_C39_H1_Bin_33_scaffold_101747_2</td>\n",
       "      <td>MEEYLIHKGPVSCWDEKTKGEVIALMYHKIIVTVEWYKKNPTNEEF...</td>\n",
       "      <td>IIIIIIIIIIIIIIIIIIIIIIIIIIIIIIIIIIIIIIIIIIIIII...</td>\n",
       "      <td>IIIIIIIIIIIIIIIIIIIIIIIIIIIIIIIIIIIIIIIIIIIIII...</td>\n",
       "    </tr>\n",
       "    <tr>\n",
       "      <th>2</th>\n",
       "      <td>D4994_C39_H1_Bin_33_scaffold_101747_3</td>\n",
       "      <td>MKPQFFIGNNVYAMIKAFTKNNKTQGVLTVVPNTVRPDKICSGRFM...</td>\n",
       "      <td>IIIIIIIIIIIIIIIIIIIIIIIIIIIIIIIIIIIIIIIIIIIIII...</td>\n",
       "      <td>IIIIIIIIIIIIIIIIIIIIIIIIIIIIIIIIIIIIIIIIIIIIII...</td>\n",
       "    </tr>\n",
       "    <tr>\n",
       "      <th>3</th>\n",
       "      <td>D4994_C39_H1_Bin_33_scaffold_102981_1</td>\n",
       "      <td>MKKNTFTVVTLSVLVLAVMIPMTFPGNDTRVEDQVAMQPDAPVTSY...</td>\n",
       "      <td>SSSSSSSSSSSSSSSSSSSSSSSSSOOOOOOOOOOOOOOOOOOOOO...</td>\n",
       "      <td>SSSSSSSSSSSSSSSSSSSSSSSSSSSSSSSSSSSSOOOOOOOOOO...</td>\n",
       "    </tr>\n",
       "    <tr>\n",
       "      <th>4</th>\n",
       "      <td>D4994_C39_H1_Bin_33_scaffold_102981_10</td>\n",
       "      <td>MVEEEREDREEEEGEEGEEEEEGDNLGELVDGGITEDNLANVTGDD...</td>\n",
       "      <td>IIIIIIIIIIIIIIIIIIIIIIIIIIIIIIIIIIIIIIIIIIIIII...</td>\n",
       "      <td>IIIIIIIIIIIIIIIIIIIIIIIIIIIIIIIIIIIIIIIIIIIIII...</td>\n",
       "    </tr>\n",
       "  </tbody>\n",
       "</table>\n",
       "</div>"
      ],
      "text/plain": [
       "                                ProteinID  \\\n",
       "0   D4994_C39_H1_Bin_33_scaffold_101747_1   \n",
       "1   D4994_C39_H1_Bin_33_scaffold_101747_2   \n",
       "2   D4994_C39_H1_Bin_33_scaffold_101747_3   \n",
       "3   D4994_C39_H1_Bin_33_scaffold_102981_1   \n",
       "4  D4994_C39_H1_Bin_33_scaffold_102981_10   \n",
       "\n",
       "                                         aa_sequence  \\\n",
       "0  MITRSRGNESRSFNRSTSPNSRSSSSSRSNLDSDSDSDSDSYSNDI...   \n",
       "1  MEEYLIHKGPVSCWDEKTKGEVIALMYHKIIVTVEWYKKNPTNEEF...   \n",
       "2  MKPQFFIGNNVYAMIKAFTKNNKTQGVLTVVPNTVRPDKICSGRFM...   \n",
       "3  MKKNTFTVVTLSVLVLAVMIPMTFPGNDTRVEDQVAMQPDAPVTSY...   \n",
       "4  MVEEEREDREEEEGEEGEEEEEGDNLGELVDGGITEDNLANVTGDD...   \n",
       "\n",
       "                                deeptmhmm_prediction  \\\n",
       "0  IIIIIIIIIIIIIIIIIIIIIIIIIIIIIIIIIIIIIIIIIIIIII...   \n",
       "1  IIIIIIIIIIIIIIIIIIIIIIIIIIIIIIIIIIIIIIIIIIIIII...   \n",
       "2  IIIIIIIIIIIIIIIIIIIIIIIIIIIIIIIIIIIIIIIIIIIIII...   \n",
       "3  SSSSSSSSSSSSSSSSSSSSSSSSSOOOOOOOOOOOOOOOOOOOOO...   \n",
       "4  IIIIIIIIIIIIIIIIIIIIIIIIIIIIIIIIIIIIIIIIIIIIII...   \n",
       "\n",
       "                                    tmbed_prediction  \n",
       "0  IIIIIIIIIIIIIIIIIIIIIIIIIIIIIIIIIIIIIIIIIIIIII...  \n",
       "1  IIIIIIIIIIIIIIIIIIIIIIIIIIIIIIIIIIIIIIIIIIIIII...  \n",
       "2  IIIIIIIIIIIIIIIIIIIIIIIIIIIIIIIIIIIIIIIIIIIIII...  \n",
       "3  SSSSSSSSSSSSSSSSSSSSSSSSSSSSSSSSSSSSOOOOOOOOOO...  \n",
       "4  IIIIIIIIIIIIIIIIIIIIIIIIIIIIIIIIIIIIIIIIIIIIII...  "
      ]
     },
     "execution_count": 8,
     "metadata": {},
     "output_type": "execute_result"
    }
   ],
   "source": [
    "#Now we can compare the predictions properly\n",
    "#Merge deep_df and tmbed_df\n",
    "#Drop the aa_seq column from tmbed_df\n",
    "tmbed_df_tomerge = tmbed_asdeep_df.drop(['aa_sequence'], axis=1)\n",
    "\n",
    "tm_preds = deep_df.merge(tmbed_df_tomerge, on='ProteinID', how='left')\n",
    "tm_preds.head()\n",
    "\n"
   ]
  },
  {
   "cell_type": "code",
   "execution_count": 9,
   "metadata": {},
   "outputs": [
    {
     "name": "stdout",
     "output_type": "stream",
     "text": [
      "There are: 50979 proteins in the tmbed dataset and 50979 in the deeptmhmm dataset.\n"
     ]
    }
   ],
   "source": [
    "print(f'There are: {tmbed_df_tomerge.shape[0]} proteins in the tmbed dataset and {deep_df.shape[0]} in the deeptmhmm dataset.')"
   ]
  },
  {
   "cell_type": "code",
   "execution_count": 10,
   "metadata": {},
   "outputs": [],
   "source": [
    "#How can I compare the two outputs here?\n",
    "# I could do an alignment of the two outputs and see how much overlap there is? But that might be a bit deeper than necessary right now. \n",
    "# How about first, let's go through and determine the number of transmembrane residues in each protein. -- essentially if an M is present\n",
    "# Then I think it would be cool to see if there are any Signal Peptides predicted as well \n",
    "def num_tm_residues(seq):\n",
    "    \"\"\"\n",
    "    This function takes a sequence and returns the number of transmembrane residues in the sequence\n",
    "    \"\"\"\n",
    "    tm_residues = 0\n",
    "    l = len(seq)\n",
    "    for i in range(1,l):\n",
    "        prev = seq[i-1]\n",
    "        residue = seq[i]\n",
    "        if residue == 'M':\n",
    "            if prev != 'M':\n",
    "                tm_residues += 1\n",
    "            elif tm_residues == 0:\n",
    "                tm_residues += 1\n",
    "    return tm_residues"
   ]
  },
  {
   "cell_type": "code",
   "execution_count": 11,
   "metadata": {},
   "outputs": [],
   "source": [
    "def num_signal_peptides(seq):\n",
    "    \"\"\"Return the number of signal peptides in a sequence.\"\"\"\n",
    "    signal_peptides = 0\n",
    "    l = len(seq)\n",
    "    for i in range(1,l):\n",
    "        prev = seq[i-1]\n",
    "        residue = seq[i]\n",
    "        if residue == 'S':\n",
    "            if prev != 'S':\n",
    "                signal_peptides += 1\n",
    "            elif signal_peptides == 0:\n",
    "                signal_peptides += 1\n",
    "    return signal_peptides"
   ]
  },
  {
   "cell_type": "code",
   "execution_count": 12,
   "metadata": {},
   "outputs": [
    {
     "data": {
      "text/html": [
       "<div>\n",
       "<style scoped>\n",
       "    .dataframe tbody tr th:only-of-type {\n",
       "        vertical-align: middle;\n",
       "    }\n",
       "\n",
       "    .dataframe tbody tr th {\n",
       "        vertical-align: top;\n",
       "    }\n",
       "\n",
       "    .dataframe thead th {\n",
       "        text-align: right;\n",
       "    }\n",
       "</style>\n",
       "<table border=\"1\" class=\"dataframe\">\n",
       "  <thead>\n",
       "    <tr style=\"text-align: right;\">\n",
       "      <th></th>\n",
       "      <th>ProteinID</th>\n",
       "      <th>aa_sequence</th>\n",
       "      <th>deeptmhmm_prediction</th>\n",
       "      <th>tmbed_prediction</th>\n",
       "      <th>num_tm_residues_deep</th>\n",
       "      <th>num_signal_deep</th>\n",
       "      <th>num_tm_residues_tmbed</th>\n",
       "      <th>num_signal_tmbed</th>\n",
       "    </tr>\n",
       "  </thead>\n",
       "  <tbody>\n",
       "    <tr>\n",
       "      <th>0</th>\n",
       "      <td>D4994_C39_H1_Bin_33_scaffold_101747_1</td>\n",
       "      <td>MITRSRGNESRSFNRSTSPNSRSSSSSRSNLDSDSDSDSDSYSNDI...</td>\n",
       "      <td>IIIIIIIIIIIIIIIIIIIIIIIIIIIIIIIIIIIIIIIIIIIIII...</td>\n",
       "      <td>IIIIIIIIIIIIIIIIIIIIIIIIIIIIIIIIIIIIIIIIIIIIII...</td>\n",
       "      <td>1</td>\n",
       "      <td>0</td>\n",
       "      <td>1</td>\n",
       "      <td>0</td>\n",
       "    </tr>\n",
       "    <tr>\n",
       "      <th>1</th>\n",
       "      <td>D4994_C39_H1_Bin_33_scaffold_101747_2</td>\n",
       "      <td>MEEYLIHKGPVSCWDEKTKGEVIALMYHKIIVTVEWYKKNPTNEEF...</td>\n",
       "      <td>IIIIIIIIIIIIIIIIIIIIIIIIIIIIIIIIIIIIIIIIIIIIII...</td>\n",
       "      <td>IIIIIIIIIIIIIIIIIIIIIIIIIIIIIIIIIIIIIIIIIIIIII...</td>\n",
       "      <td>0</td>\n",
       "      <td>0</td>\n",
       "      <td>0</td>\n",
       "      <td>0</td>\n",
       "    </tr>\n",
       "    <tr>\n",
       "      <th>2</th>\n",
       "      <td>D4994_C39_H1_Bin_33_scaffold_101747_3</td>\n",
       "      <td>MKPQFFIGNNVYAMIKAFTKNNKTQGVLTVVPNTVRPDKICSGRFM...</td>\n",
       "      <td>IIIIIIIIIIIIIIIIIIIIIIIIIIIIIIIIIIIIIIIIIIIIII...</td>\n",
       "      <td>IIIIIIIIIIIIIIIIIIIIIIIIIIIIIIIIIIIIIIIIIIIIII...</td>\n",
       "      <td>0</td>\n",
       "      <td>0</td>\n",
       "      <td>0</td>\n",
       "      <td>0</td>\n",
       "    </tr>\n",
       "    <tr>\n",
       "      <th>3</th>\n",
       "      <td>D4994_C39_H1_Bin_33_scaffold_102981_1</td>\n",
       "      <td>MKKNTFTVVTLSVLVLAVMIPMTFPGNDTRVEDQVAMQPDAPVTSY...</td>\n",
       "      <td>SSSSSSSSSSSSSSSSSSSSSSSSSOOOOOOOOOOOOOOOOOOOOO...</td>\n",
       "      <td>SSSSSSSSSSSSSSSSSSSSSSSSSSSSSSSSSSSSOOOOOOOOOO...</td>\n",
       "      <td>1</td>\n",
       "      <td>1</td>\n",
       "      <td>1</td>\n",
       "      <td>1</td>\n",
       "    </tr>\n",
       "    <tr>\n",
       "      <th>4</th>\n",
       "      <td>D4994_C39_H1_Bin_33_scaffold_102981_10</td>\n",
       "      <td>MVEEEREDREEEEGEEGEEEEEGDNLGELVDGGITEDNLANVTGDD...</td>\n",
       "      <td>IIIIIIIIIIIIIIIIIIIIIIIIIIIIIIIIIIIIIIIIIIIIII...</td>\n",
       "      <td>IIIIIIIIIIIIIIIIIIIIIIIIIIIIIIIIIIIIIIIIIIIIII...</td>\n",
       "      <td>0</td>\n",
       "      <td>0</td>\n",
       "      <td>0</td>\n",
       "      <td>0</td>\n",
       "    </tr>\n",
       "  </tbody>\n",
       "</table>\n",
       "</div>"
      ],
      "text/plain": [
       "                                ProteinID  \\\n",
       "0   D4994_C39_H1_Bin_33_scaffold_101747_1   \n",
       "1   D4994_C39_H1_Bin_33_scaffold_101747_2   \n",
       "2   D4994_C39_H1_Bin_33_scaffold_101747_3   \n",
       "3   D4994_C39_H1_Bin_33_scaffold_102981_1   \n",
       "4  D4994_C39_H1_Bin_33_scaffold_102981_10   \n",
       "\n",
       "                                         aa_sequence  \\\n",
       "0  MITRSRGNESRSFNRSTSPNSRSSSSSRSNLDSDSDSDSDSYSNDI...   \n",
       "1  MEEYLIHKGPVSCWDEKTKGEVIALMYHKIIVTVEWYKKNPTNEEF...   \n",
       "2  MKPQFFIGNNVYAMIKAFTKNNKTQGVLTVVPNTVRPDKICSGRFM...   \n",
       "3  MKKNTFTVVTLSVLVLAVMIPMTFPGNDTRVEDQVAMQPDAPVTSY...   \n",
       "4  MVEEEREDREEEEGEEGEEEEEGDNLGELVDGGITEDNLANVTGDD...   \n",
       "\n",
       "                                deeptmhmm_prediction  \\\n",
       "0  IIIIIIIIIIIIIIIIIIIIIIIIIIIIIIIIIIIIIIIIIIIIII...   \n",
       "1  IIIIIIIIIIIIIIIIIIIIIIIIIIIIIIIIIIIIIIIIIIIIII...   \n",
       "2  IIIIIIIIIIIIIIIIIIIIIIIIIIIIIIIIIIIIIIIIIIIIII...   \n",
       "3  SSSSSSSSSSSSSSSSSSSSSSSSSOOOOOOOOOOOOOOOOOOOOO...   \n",
       "4  IIIIIIIIIIIIIIIIIIIIIIIIIIIIIIIIIIIIIIIIIIIIII...   \n",
       "\n",
       "                                    tmbed_prediction  num_tm_residues_deep  \\\n",
       "0  IIIIIIIIIIIIIIIIIIIIIIIIIIIIIIIIIIIIIIIIIIIIII...                     1   \n",
       "1  IIIIIIIIIIIIIIIIIIIIIIIIIIIIIIIIIIIIIIIIIIIIII...                     0   \n",
       "2  IIIIIIIIIIIIIIIIIIIIIIIIIIIIIIIIIIIIIIIIIIIIII...                     0   \n",
       "3  SSSSSSSSSSSSSSSSSSSSSSSSSSSSSSSSSSSSOOOOOOOOOO...                     1   \n",
       "4  IIIIIIIIIIIIIIIIIIIIIIIIIIIIIIIIIIIIIIIIIIIIII...                     0   \n",
       "\n",
       "   num_signal_deep  num_tm_residues_tmbed  num_signal_tmbed  \n",
       "0                0                      1                 0  \n",
       "1                0                      0                 0  \n",
       "2                0                      0                 0  \n",
       "3                1                      1                 1  \n",
       "4                0                      0                 0  "
      ]
     },
     "execution_count": 12,
     "metadata": {},
     "output_type": "execute_result"
    }
   ],
   "source": [
    "#Apply the num_tm_residues function to the dataframe\n",
    "#df['num_tm_residues'] = df['sequence'].apply(num_tm_residues)\n",
    "tm_preds['num_tm_residues_deep'] = tm_preds['deeptmhmm_prediction'].apply(num_tm_residues)\n",
    "tm_preds['num_signal_deep'] = tm_preds['deeptmhmm_prediction'].apply(num_signal_peptides)\n",
    "\n",
    "tm_preds['num_tm_residues_tmbed'] = tm_preds['tmbed_prediction'].apply(num_tm_residues)\n",
    "tm_preds['num_signal_tmbed'] = tm_preds['tmbed_prediction'].apply(num_signal_peptides)\n",
    "\n",
    "tm_preds.head()"
   ]
  },
  {
   "cell_type": "code",
   "execution_count": 13,
   "metadata": {},
   "outputs": [
    {
     "data": {
      "text/plain": [
       "'IIIIIIIIIIIIIIIIIIIIIIIIIIIIIIIIIIIIIIIIIIIIIIIIIIIIIIIIIIIIIIIIIIIIIIIIIIIIIIIIIIIIIIIIIIIIIIIIIIIIIIIIIIIIIIIIIIIIIIIIIIIIIIIIIIIIIIIIIIIIIIIIIIIIIIIIIIIIIIIIIIIIIIIIIIIIIIIIIIIIIIIIIIIIIIIIIIIIIIIIIIIIIIIIIIIIIIIIIIIIIIIIIIIIIIIIIIIIIIIIIIIIIIIIIIIIIIIIIIIIIIIIIIIIIIIIIIIIIIIIIIIIIIIIIIIII'"
      ]
     },
     "execution_count": 13,
     "metadata": {},
     "output_type": "execute_result"
    }
   ],
   "source": [
    "tm_preds['deeptmhmm_prediction'][4]"
   ]
  },
  {
   "cell_type": "code",
   "execution_count": 14,
   "metadata": {},
   "outputs": [
    {
     "data": {
      "image/png": "[encoded data removed]",
      "text/plain": [
       "<Figure size 640x480 with 1 Axes>"
      ]
     },
     "metadata": {},
     "output_type": "display_data"
    }
   ],
   "source": [
    "#Plot a Venn Diagram Comparing the num_tm_resides predicted by deeptmhmm vs tmbed\n",
    "from matplotlib_venn import venn2\n",
    "\n",
    "#Get number of proteins predicted to have TM regions by DeepTMHMM\n",
    "deep_predicted_tms = tm_preds[tm_preds['num_tm_residues_deep'] != 0]\n",
    "tmbed_predicted_tms = tm_preds[tm_preds['num_tm_residues_tmbed'] != 0]\n",
    "\n",
    "#Create a venn diagram comparing the two\n",
    "venn2([set(deep_predicted_tms['ProteinID']), set(tmbed_predicted_tms['ProteinID'])], set_labels = ('DeepTMHMM', 'TMBED'), set_colors=('blue', 'purple'))\n",
    "plt.title('Number of TM Residues Predicted by DeepTMHMM vs TMBED')\n",
    "plt.show()\n"
   ]
  },
  {
   "cell_type": "code",
   "execution_count": 15,
   "metadata": {},
   "outputs": [
    {
     "data": {
      "image/png": "[encoded data removed]",
      "text/plain": [
       "<Figure size 640x480 with 1 Axes>"
      ]
     },
     "metadata": {},
     "output_type": "display_data"
    }
   ],
   "source": [
    "#Create a venn diagram comparing the signal peptides predicted by DeepTMHMM and TMBED\n",
    "deep_predicted_signals = tm_preds[tm_preds['num_signal_deep'] != 0]\n",
    "tmbed_predicted_signals = tm_preds[tm_preds['num_signal_tmbed'] != 0]\n",
    "\n",
    "venn2([set(deep_predicted_signals['ProteinID']), set(tmbed_predicted_signals['ProteinID'])], set_labels = ('DeepTMHMM', 'TMBED'), set_colors=('blue', 'purple'))\n",
    "plt.title('Number of Proteins with Signaling Regions Predicted by DeepTMHMM vs TMBED')\n",
    "plt.show()"
   ]
  },
  {
   "cell_type": "code",
   "execution_count": 16,
   "metadata": {},
   "outputs": [
    {
     "data": {
      "image/png": "[encoded data removed]",
      "text/plain": [
       "<Figure size 1000x600 with 1 Axes>"
      ]
     },
     "metadata": {},
     "output_type": "display_data"
    }
   ],
   "source": [
    "# Plot histogram of the distribution of the number of TMR residues per protein predicted by deeptmhmm and tmbed\n",
    "#Plot a histogram with two columns\n",
    "# 1. Number of TMR residues predicted by deeptmhmm\n",
    "# 2. Number of TMR residues predicted by tmbed\n",
    "\n",
    "# Plot histograms\n",
    "plt.figure(figsize=(10, 6))  # Optional: adjust the figure size\n",
    "\n",
    "#Filter tm_preds to only include proteins that have a non-zero value in num_tm_residues_deep and num_tm_residues_tmbed\n",
    "tm_preds_TMRs = tm_preds[(tm_preds['num_tm_residues_deep'] > 0) | (tm_preds['num_tm_residues_tmbed'] > 0)]\n",
    "\n",
    "# Plot histogram for column1\n",
    "plt.hist(tm_preds_TMRs['num_tm_residues_deep'], bins=100, alpha=0.5, label='DeepTMHMM', color='blue')\n",
    "\n",
    "# Plot histogram for column2\n",
    "plt.hist(tm_preds_TMRs['num_tm_residues_tmbed'], bins=100, alpha=0.5, label='TMBed', color='purple')\n",
    "\n",
    "plt.xlabel('Value')\n",
    "plt.ylabel('Frequency')\n",
    "plt.title('Distribution of the Number of TM Residues per Protein')\n",
    "plt.legend()\n",
    "\n",
    "plt.show()\n",
    "\n"
   ]
  },
  {
   "cell_type": "code",
   "execution_count": 17,
   "metadata": {},
   "outputs": [
    {
     "data": {
      "image/png": "[encoded data removed]",
      "text/plain": [
       "<Figure size 1000x600 with 1 Axes>"
      ]
     },
     "metadata": {},
     "output_type": "display_data"
    }
   ],
   "source": [
    "# Only 1 signaling region is ever predicted per protein \n",
    "# Let's look at the proportion of the proteins with TMRs that also have signals -- this is better as a bar plot\n",
    "# Plot histogram of the distribution of the number of signal residues per protein predicted by deeptmhmm and tmbed\n",
    "# Plot histograms\n",
    "plt.figure(figsize=(10, 6))  # Optional: adjust the figure size\n",
    "\n",
    "# Plot histogram for column1\n",
    "plt.hist(tm_preds_TMRs['num_signal_deep'], bins=100, alpha=0.5, label='DeepTMHMM', color='blue')\n",
    "\n",
    "# Plot histogram for column2\n",
    "plt.hist(tm_preds_TMRs['num_signal_tmbed'], bins=100, alpha=0.5, label='TMBed', color='purple')\n",
    "\n",
    "plt.xlabel('Value')\n",
    "plt.ylabel('Frequency')\n",
    "plt.title('Distribution of the Number of Signaling Moities per Predicted TMR Protein')\n",
    "plt.legend()\n",
    "\n",
    "plt.show()\n",
    "\n",
    "\n",
    "\n",
    "\n",
    "\n",
    "\n",
    "\n",
    "\n",
    "\n",
    "\n"
   ]
  },
  {
   "cell_type": "markdown",
   "metadata": {},
   "source": [
    "##### Graph Distribution of TMRs among the Asgard phylas and connect the x-axis labels via phylogeny"
   ]
  },
  {
   "cell_type": "code",
   "execution_count": null,
   "metadata": {},
   "outputs": [],
   "source": []
  },
  {
   "cell_type": "code",
   "execution_count": 22,
   "metadata": {},
   "outputs": [],
   "source": [
    "# conda install -c etetoolkit ete3 <-- will need this toolkit to make this graph \n",
    "# wasn't working (ModuleNotFoundError) so ran ete3 build check on the command line\n",
    "# Recommended to install the ete_toolchain: conda install -c etetoolkit ete_toolchain\n",
    "\n",
    "\n"
   ]
  },
  {
   "cell_type": "code",
   "execution_count": 21,
   "metadata": {},
   "outputs": [
    {
     "ename": "ModuleNotFoundError",
     "evalue": "No module named 'ete3'",
     "output_type": "error",
     "traceback": [
      "\u001b[0;31m---------------------------------------------------------------------------\u001b[0m",
      "\u001b[0;31mModuleNotFoundError\u001b[0m                       Traceback (most recent call last)",
      "Cell \u001b[0;32mIn[21], line 1\u001b[0m\n\u001b[0;32m----> 1\u001b[0m \u001b[39mfrom\u001b[39;00m \u001b[39mete3\u001b[39;00m \u001b[39mimport\u001b[39;00m Tree\n",
      "\u001b[0;31mModuleNotFoundError\u001b[0m: No module named 'ete3'"
     ]
    }
   ],
   "source": [
    "from ete3 import Tree\n",
    "\n"
   ]
  },
  {
   "cell_type": "code",
   "execution_count": null,
   "metadata": {},
   "outputs": [],
   "source": [
    "# Create a sample DataFrame with species and their corresponding values\n",
    "data = {'Species': ['Species A', 'Species B', 'Species C', 'Species D'],\n",
    "        'Value': [20, 30, 15, 25]}\n",
    "\n",
    "df = pd.DataFrame(data)\n",
    "\n",
    "# Create a Newick string representing the phylogenetic tree\n",
    "newick_tree = \"(Species A,(Species B,(Species C,Species D)));\"\n",
    "\n",
    "# Load the phylogenetic tree\n",
    "tree = Tree(newick_tree)\n",
    "\n",
    "# Plot the phylogenetic tree\n",
    "plt.figure(figsize=(10, 6))  # Adjust the figure size\n",
    "\n",
    "# Plot the tree\n",
    "ts = tree.render('%%inline', tree_style=tree_style)\n",
    "\n",
    "# Add a bar plot as an overlay\n",
    "ax = plt.gca()  # Get the current axes\n",
    "ax2 = ax.twinx()  # Create a twin axes for the bar plot\n",
    "\n",
    "# Plot the bar plot on the twin axes\n",
    "df.plot(kind='bar', x='Species', y='Value', ax=ax2, color='blue', alpha=0.7)\n",
    "\n",
    "# Adjust the positions and labels of the x-axis ticks for the bar plot\n",
    "ax2.set_xticks([i for i, _ in enumerate(df['Species'])])\n",
    "ax2.set_xticklabels(df['Species'])\n",
    "\n",
    "plt.title('Phylogenetic Tree with Bar Plot Overlay')\n",
    "plt.show()"
   ]
  }
 ],
 "metadata": {
  "kernelspec": {
   "display_name": "membrane_proteome",
   "language": "python",
   "name": "python3"
  },
  "language_info": {
   "codemirror_mode": {
    "name": "ipython",
    "version": 3
   },
   "file_extension": ".py",
   "mimetype": "text/x-python",
   "name": "python",
   "nbconvert_exporter": "python",
   "pygments_lexer": "ipython3",
   "version": "3.8.17"
  },
  "orig_nbformat": 4
 },
 "nbformat": 4,
 "nbformat_minor": 2
}
